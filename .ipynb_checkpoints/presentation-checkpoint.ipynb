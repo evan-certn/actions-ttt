{
 "cells": [
  {
   "cell_type": "markdown",
   "metadata": {
    "pycharm": {
     "name": "#%% md\n"
    },
    "slideshow": {
     "slide_type": "slide"
    }
   },
   "source": [
    "## Github Actions and ACT\n"
   ]
  },
  {
   "cell_type": "markdown",
   "metadata": {
    "pycharm": {
     "name": "#%% md\n"
    },
    "slideshow": {
     "slide_type": "slide"
    }
   },
   "source": [
    "Table of Contents\n",
    "* **Triggers and Matrices**\n",
    "* Variables and Secrets\n",
    "* Authentication and Deployment\n",
    "* Local Development with ACT"
   ]
  },
  {
   "cell_type": "markdown",
   "metadata": {
    "pycharm": {
     "name": "#%% md\n"
    }
   },
   "source": [
    "### Terminology\n",
    "\n",
    "job - a shell script or action\n",
    "action - \n",
    "workflow - one or more jobs\n",
    "runner - [ubuntu-lastest]\n",
    "events - [push, PR, manual trigger]"
   ]
  },
  {
   "cell_type": "markdown",
   "metadata": {
    "pycharm": {
     "name": "#%% md\n"
    },
    "slideshow": {
     "slide_type": "slide"
    }
   },
   "source": [
    "### Triggers"
   ]
  },
  {
   "cell_type": "markdown",
   "metadata": {
    "pycharm": {
     "name": "#%% md\n"
    },
    "slideshow": {
     "slide_type": "fragment"
    }
   },
   "source": [
    "```yaml\n",
    "on:\n",
    "  push:\n",
    "    branches:\n",
    "    - main\n",
    "    - 'releases/**'\n",
    "  pull_request:\n",
    "    branches:\n",
    "    - main\n",
    "    - 'releases/**'\n",
    "```"
   ]
  },
  {
   "cell_type": "markdown",
   "metadata": {
    "pycharm": {
     "name": "#%% md\n"
    },
    "slideshow": {
     "slide_type": "slide"
    }
   },
   "source": [
    "### Variables"
   ]
  },
  {
   "cell_type": "markdown",
   "metadata": {
    "pycharm": {
     "name": "#%% md\n"
    },
    "slideshow": {
     "slide_type": "fragment"
    }
   },
   "source": [
    "```yaml\n",
    "env:\n",
    "  TAG_NAME: \"tag_${{ github.sha }}_${{ github.run_attempt }}\"\n",
    "```"
   ]
  },
  {
   "cell_type": "markdown",
   "metadata": {
    "pycharm": {
     "name": "#%% md\n"
    },
    "slideshow": {
     "slide_type": "fragment"
    }
   },
   "source": [
    "```yaml\n",
    "run: echo ${{ github.repository }} ${{ env.TAG_NAME }}\n",
    "```"
   ]
  },
  {
   "cell_type": "markdown",
   "metadata": {
    "pycharm": {
     "name": "#%% md\n"
    },
    "slideshow": {
     "slide_type": "slide"
    }
   },
   "source": [
    "### Combining Them"
   ]
  },
  {
   "cell_type": "markdown",
   "metadata": {
    "pycharm": {
     "name": "#%% md\n"
    },
    "slideshow": {
     "slide_type": "fragment"
    }
   },
   "source": [
    "```yaml\n",
    "name: Example 1 Workflow\n",
    "on:\n",
    "  push:\n",
    "  workflow_dispatch:\n",
    "env:\n",
    "  TAG_NAME: \"tag/${{ github.sha }}/${{ github.run_attempt }}\"\n",
    "jobs:\n",
    "  example1:\n",
    "    name: Example 1 Job\n",
    "    runs-on: ubuntu-latest\n",
    "    steps:\n",
    "    - name: Example 1 Action\n",
    "      run: echo ${{ github.repository }} ${{ env.TAG_NAME }}\n",
    "```"
   ]
  },
  {
   "cell_type": "markdown",
   "metadata": {
    "slideshow": {
     "slide_type": "slide"
    }
   },
   "source": [
    "### Running the Workflow"
   ]
  },
  {
   "cell_type": "code",
   "execution_count": 20,
   "metadata": {
    "pycharm": {
     "name": "#%%\n"
    },
    "slideshow": {
     "slide_type": "fragment"
    }
   },
   "outputs": [
    {
     "name": "stdout",
     "output_type": "stream",
     "text": [
      "\u001b[0;32m✓\u001b[0m Created workflow_dispatch event for \u001b[0;36mexample1.yaml\u001b[0m at \u001b[0;1;39mmain\u001b[0m\r\n",
      "\r\n",
      "To see runs for this workflow, try: \u001b[0;1;39mgh run list --workflow=example1.yaml\u001b[0m\r\n"
     ]
    }
   ],
   "source": [
    "!gh workflow run example1.yaml --ref main"
   ]
  },
  {
   "cell_type": "code",
   "execution_count": 22,
   "metadata": {
    "pycharm": {
     "name": "#%%\n"
    },
    "slideshow": {
     "slide_type": "fragment"
    }
   },
   "outputs": [
    {
     "name": "stdout",
     "output_type": "stream",
     "text": [
      "\u001b[KSTATUS  NAME          WORKFLOW     BRANCH  EVENT        ID          ELAPSED  AGE\n",
      "\u001b[0;32m✓     \u001b[0m  \u001b[0;1;39mchanged p...\u001b[0m  Example ...  \u001b[0;1;39mmain  \u001b[0m  workflow...  \u001b[0;36m2848542299\u001b[0m  12s      1m\n"
     ]
    }
   ],
   "source": [
    "!gh run list --workflow example1.yaml --limit 1"
   ]
  },
  {
   "cell_type": "markdown",
   "metadata": {
    "pycharm": {
     "name": "#%% md\n"
    },
    "slideshow": {
     "slide_type": "slide"
    }
   },
   "source": [
    "### Message Passing\n"
   ]
  },
  {
   "cell_type": "markdown",
   "metadata": {
    "pycharm": {
     "name": "#%%\n"
    },
    "slideshow": {
     "slide_type": "fragment"
    }
   },
   "source": [
    "```yaml\n",
    "- name: Format Tag Name String\n",
    "  id: format_tag_name\n",
    "  run: |\n",
    "    tag_name=\"${{ env.TAG_NAME }}\"\n",
    "    formatted_tag_name=${tag_name//\\//-} # replace forward slash with -\n",
    "    echo \"::set-output name=FORMATTED_TAG_NAME::$formatted_tag_name\"\n",
    "```"
   ]
  },
  {
   "cell_type": "markdown",
   "metadata": {
    "slideshow": {
     "slide_type": "fragment"
    }
   },
   "source": [
    "```yaml\n",
    "- name: Echo Formatted Tag Name\n",
    "  run: echo ${{ steps.format_tag_name.outputs.FORMATTED_TAG_NAME }}\n",
    "```"
   ]
  },
  {
   "cell_type": "markdown",
   "metadata": {},
   "source": [
    "### External Workflows"
   ]
  },
  {
   "cell_type": "markdown",
   "metadata": {},
   "source": [
    "```yaml\n",
    "sync_argo_cd:\n",
    "if: needs.ci.outputs.branch_type == 'main'\n",
    "    needs: ci\n",
    "    uses: evan-certn/actions-ttt/.github/workflows/argocd_deploy.yaml@main\n",
    "```"
   ]
  }
 ],
 "metadata": {
  "celltoolbar": "Slideshow",
  "kernelspec": {
   "display_name": "Python 3 (ipykernel)",
   "language": "python",
   "name": "python3"
  },
  "language_info": {
   "codemirror_mode": {
    "name": "ipython",
    "version": 3
   },
   "file_extension": ".py",
   "mimetype": "text/x-python",
   "name": "python",
   "nbconvert_exporter": "python",
   "pygments_lexer": "ipython3",
   "version": "3.8.9"
  }
 },
 "nbformat": 4,
 "nbformat_minor": 1
}
