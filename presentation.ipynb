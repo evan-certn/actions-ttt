{
 "cells": [
  {
   "cell_type": "markdown",
   "metadata": {
    "pycharm": {
     "name": "#%% md\n"
    },
    "slideshow": {
     "slide_type": "slide"
    }
   },
   "source": [
    "## Github Actions and ACT\n"
   ]
  },
  {
   "cell_type": "markdown",
   "metadata": {
    "pycharm": {
     "name": "#%% md\n"
    },
    "slideshow": {
     "slide_type": "slide"
    }
   },
   "source": [
    "### Terminology\n",
    "\n",
    "- job      -> a shell script or action\n",
    "- action   -> a custom application usually on the Github Marketplace\n",
    "- workflow -> one or more jobs\n",
    "- runner   -> [ubuntu-lastest,macos-latest,windows-latest]\n",
    "- events   -> [push, PR, manual trigger]\n",
    "\n",
    "https://github.com/actions/runner-images/blob/main/images/linux/Ubuntu2004-Readme.md"
   ]
  },
  {
   "cell_type": "markdown",
   "metadata": {
    "pycharm": {
     "name": "#%% md\n"
    },
    "slideshow": {
     "slide_type": "slide"
    }
   },
   "source": [
    "### Triggers"
   ]
  },
  {
   "cell_type": "markdown",
   "metadata": {
    "pycharm": {
     "name": "#%% md\n"
    },
    "slideshow": {
     "slide_type": "fragment"
    }
   },
   "source": [
    "```yaml\n",
    "on:\n",
    "  push:\n",
    "    branches:\n",
    "    - main\n",
    "    - 'releases/**'\n",
    "  pull_request:\n",
    "  workflow_dispatch:\n",
    "  schedule:\n",
    "    - cron:  '0 22 1 * *'\n",
    "\n",
    "```"
   ]
  },
  {
   "cell_type": "markdown",
   "metadata": {
    "pycharm": {
     "name": "#%% md\n"
    },
    "slideshow": {
     "slide_type": "slide"
    }
   },
   "source": [
    "### Variables"
   ]
  },
  {
   "cell_type": "markdown",
   "metadata": {
    "pycharm": {
     "name": "#%% md\n"
    },
    "slideshow": {
     "slide_type": "fragment"
    }
   },
   "source": [
    "```yaml\n",
    "env:\n",
    "  TAG_NAME: \"tag_${{ github.sha }}_${{ github.run_attempt }}\"\n",
    "```"
   ]
  },
  {
   "cell_type": "markdown",
   "metadata": {
    "pycharm": {
     "name": "#%% md\n"
    },
    "slideshow": {
     "slide_type": "fragment"
    }
   },
   "source": [
    "```yaml\n",
    "run: echo ${{ github.repository }} ${{ env.TAG_NAME }}\n",
    "```"
   ]
  },
  {
   "cell_type": "markdown",
   "metadata": {
    "pycharm": {
     "name": "#%% md\n"
    },
    "slideshow": {
     "slide_type": "slide"
    }
   },
   "source": [
    "### Combining Them"
   ]
  },
  {
   "cell_type": "markdown",
   "metadata": {
    "pycharm": {
     "name": "#%% md\n"
    },
    "slideshow": {
     "slide_type": "fragment"
    }
   },
   "source": [
    "```yaml\n",
    "name: Example 1 Workflow\n",
    "on:\n",
    "  push:\n",
    "  workflow_dispatch:\n",
    "env:\n",
    "  TAG_NAME: \"tag/${{ github.sha }}/${{ github.run_attempt }}\"\n",
    "jobs:\n",
    "  example1:\n",
    "    name: Example 1 Job\n",
    "    runs-on: ubuntu-latest\n",
    "    steps:\n",
    "    - name: Example 1 Action\n",
    "      run: echo ${{ github.repository }} ${{ env.TAG_NAME }}\n",
    "```"
   ]
  },
  {
   "cell_type": "markdown",
   "metadata": {
    "slideshow": {
     "slide_type": "slide"
    }
   },
   "source": [
    "### Running Example1"
   ]
  },
  {
   "cell_type": "code",
   "execution_count": 20,
   "metadata": {
    "pycharm": {
     "name": "#%%\n"
    },
    "slideshow": {
     "slide_type": "fragment"
    }
   },
   "outputs": [
    {
     "name": "stdout",
     "output_type": "stream",
     "text": [
      "\u001b[0;32m✓\u001b[0m Created workflow_dispatch event for \u001b[0;36mexample1.yaml\u001b[0m at \u001b[0;1;39mmain\u001b[0m\r\n",
      "\r\n",
      "To see runs for this workflow, try: \u001b[0;1;39mgh run list --workflow=example1.yaml\u001b[0m\r\n"
     ]
    }
   ],
   "source": [
    "!gh workflow run example1.yaml --ref main"
   ]
  },
  {
   "cell_type": "code",
   "execution_count": 22,
   "metadata": {
    "pycharm": {
     "name": "#%%\n"
    },
    "slideshow": {
     "slide_type": "fragment"
    }
   },
   "outputs": [
    {
     "name": "stdout",
     "output_type": "stream",
     "text": [
      "\u001b[KSTATUS  NAME          WORKFLOW     BRANCH  EVENT        ID          ELAPSED  AGE\n",
      "\u001b[0;32m✓     \u001b[0m  \u001b[0;1;39mchanged p...\u001b[0m  Example ...  \u001b[0;1;39mmain  \u001b[0m  workflow...  \u001b[0;36m2848542299\u001b[0m  12s      1m\n"
     ]
    }
   ],
   "source": [
    "!gh run list --workflow example1.yaml --limit 1"
   ]
  },
  {
   "cell_type": "markdown",
   "metadata": {
    "pycharm": {
     "name": "#%% md\n"
    },
    "slideshow": {
     "slide_type": "slide"
    }
   },
   "source": [
    "### Message Passing\n"
   ]
  },
  {
   "cell_type": "markdown",
   "metadata": {
    "pycharm": {
     "name": "#%%\n"
    },
    "slideshow": {
     "slide_type": "fragment"
    }
   },
   "source": [
    "```yaml\n",
    "- name: Format Tag Name String\n",
    "  id: format_tag_name\n",
    "  run: |\n",
    "    tag_name=\"${{ env.TAG_NAME }}\"\n",
    "    formatted_tag_name=${tag_name//\\//-} # replace forward slash with -\n",
    "    echo \"::set-output name=FORMATTED_TAG_NAME::$formatted_tag_name\"\n",
    "```"
   ]
  },
  {
   "cell_type": "markdown",
   "metadata": {
    "slideshow": {
     "slide_type": "fragment"
    }
   },
   "source": [
    "```yaml\n",
    "- name: Echo Formatted Tag Name\n",
    "  run: echo ${{ steps.format_tag_name.outputs.FORMATTED_TAG_NAME }}\n",
    "```"
   ]
  },
  {
   "cell_type": "markdown",
   "metadata": {
    "slideshow": {
     "slide_type": "slide"
    }
   },
   "source": [
    "### Running Example2"
   ]
  },
  {
   "cell_type": "code",
   "execution_count": null,
   "metadata": {
    "slideshow": {
     "slide_type": "fragment"
    }
   },
   "outputs": [],
   "source": [
    "!gh workflow run example2.yaml --ref main"
   ]
  },
  {
   "cell_type": "code",
   "execution_count": null,
   "metadata": {
    "slideshow": {
     "slide_type": "fragment"
    }
   },
   "outputs": [],
   "source": [
    "!gh run list --workflow example2.yaml --limit 1"
   ]
  },
  {
   "cell_type": "markdown",
   "metadata": {
    "slideshow": {
     "slide_type": "slide"
    }
   },
   "source": [
    "### External Workflows"
   ]
  },
  {
   "cell_type": "markdown",
   "metadata": {
    "slideshow": {
     "slide_type": "slide"
    }
   },
   "source": [
    "```yaml\n",
    "jobs:\n",
    "  example4:\n",
    "    name: Example 3 Job\n",
    "    runs-on: ubuntu-latest\n",
    "    env:\n",
    "      TAG_NAME: \"release/${{ github.sha }}/${{ github.run_attempt }}\"\n",
    "    outputs:\n",
    "      branch_type: ${{ steps.release_branch_check.outputs.branch_type }}\n",
    "      tag_name: ${{ env.TAG_NAME }}\n",
    "    steps:\n",
    "    - name: Check if branch is release\n",
    "      id: release_branch_check\n",
    "      run: |\n",
    "        pattern=\"(^release\\/.*|^hotfix\\/.*)\"\n",
    "        if [[ ${{ env.TAG_NAME }} =~ $pattern ]]\n",
    "        then\n",
    "          echo \"::set-output name=branch_type::release\"\n",
    "        fi   \n",
    "```"
   ]
  },
  {
   "cell_type": "markdown",
   "metadata": {
    "slideshow": {
     "slide_type": "slide"
    }
   },
   "source": [
    "```yaml\n",
    "example3_2:\n",
    "if: needs.example3.outputs.branch_type == 'release'\n",
    "    needs: example3\n",
    "    uses: evan-certn/actions-ttt/.github/workflows/example.yaml@main\n",
    "    with:\n",
    "        TAG_NAME: needs.example3.outputs.tag_name\n",
    "```"
   ]
  },
  {
   "cell_type": "markdown",
   "metadata": {
    "slideshow": {
     "slide_type": "slide"
    }
   },
   "source": [
    "```yaml\n",
    "name: Echo Tag from reusable workflow\n",
    "on:\n",
    "  workflow_call:\n",
    "    inputs:\n",
    "      TAG_NAME:\n",
    "        type: string\n",
    "        required: true\n",
    "jobs:\n",
    "  Example3_3:\n",
    "    runs-on: ubuntu-latest\n",
    "    steps:\n",
    "    - name: Echo Tag Name\n",
    "      run: echo ${{ inputs.TAG_NAME }}\n",
    "```"
   ]
  },
  {
   "cell_type": "code",
   "execution_count": 24,
   "metadata": {
    "slideshow": {
     "slide_type": "slide"
    }
   },
   "outputs": [
    {
     "name": "stdout",
     "output_type": "stream",
     "text": [
      "\u001b[KSTATUS  NAME              WORKFLOW       BRANCH  EVENT  ID          ELAPSED  AGE\n",
      "\u001b[0;32m✓     \u001b[0m  \u001b[0;1;39mfixed example...\u001b[0m  Example 3 ...  \u001b[0;1;39mmain  \u001b[0m  push   \u001b[0;36m2848791015\u001b[0m  23s      0m\n"
     ]
    }
   ],
   "source": [
    "!gh run list --workflow example3.yaml --limit 1"
   ]
  },
  {
   "cell_type": "markdown",
   "metadata": {
    "slideshow": {
     "slide_type": "slide"
    }
   },
   "source": [
    "## ACT"
   ]
  },
  {
   "cell_type": "code",
   "execution_count": 32,
   "metadata": {
    "slideshow": {
     "slide_type": "fragment"
    }
   },
   "outputs": [
    {
     "name": "stdout",
     "output_type": "stream",
     "text": [
      "\u001b[34m[Example 5 Workflow/Example 5 Job] \u001b[0m🚀  Start image=ubuntu:latest\n",
      "\u001b[34m[Example 5 Workflow/Example 5 Job] \u001b[0m  🐳  docker pull image=ubuntu:latest platform=linux/amd64 username= forcePull=false\n",
      "\u001b[34m[Example 5 Workflow/Example 5 Job] \u001b[0m  🐳  docker create image=ubuntu:latest platform=linux/amd64 entrypoint=[\"/usr/bin/tail\" \"-f\" \"/dev/null\"] cmd=[]\n",
      "\u001b[34m[Example 5 Workflow/Example 5 Job] \u001b[0m  🐳  docker run image=ubuntu:latest platform=linux/amd64 entrypoint=[\"/usr/bin/tail\" \"-f\" \"/dev/null\"] cmd=[]\n",
      "\u001b[34m[Example 5 Workflow/Example 5 Job] \u001b[0m  🐳  docker exec cmd=[mkdir -m 0777 -p /var/run/act] user=root workdir=\n",
      "\u001b[34m[Example 5 Workflow/Example 5 Job] \u001b[0m⭐  Run Example 5 Action with ACT\n",
      "\u001b[34m[Example 5 Workflow/Example 5 Job] \u001b[0m  🐳  docker exec cmd=[bash --noprofile --norc -e -o pipefail /var/run/act/workflow/1] user= workdir=\n",
      "\u001b[34m|\u001b[0m evan-certn/actions-ttt run with ACT\n",
      "\u001b[34m[Example 5 Workflow/Example 5 Job] \u001b[0m  ✅  Success - Example 5 Action with ACT\n"
     ]
    }
   ],
   "source": [
    "!act \\\n",
    "    --container-architecture linux/amd64 \\\n",
    "    -P ubuntu-latest=ubuntu:latest \\\n",
    "    -W .github/workflows/example5.yaml"
   ]
  },
  {
   "cell_type": "markdown",
   "metadata": {
    "slideshow": {
     "slide_type": "slide"
    }
   },
   "source": [
    "### Problems with Act\n",
    "- No access to certain github enviroment variables\n",
    "- docker inside docker requies setup\n",
    "- images are not 1:1"
   ]
  },
  {
   "cell_type": "code",
   "execution_count": null,
   "metadata": {},
   "outputs": [],
   "source": []
  }
 ],
 "metadata": {
  "celltoolbar": "Slideshow",
  "kernelspec": {
   "display_name": "Python 3 (ipykernel)",
   "language": "python",
   "name": "python3"
  },
  "language_info": {
   "codemirror_mode": {
    "name": "ipython",
    "version": 3
   },
   "file_extension": ".py",
   "mimetype": "text/x-python",
   "name": "python",
   "nbconvert_exporter": "python",
   "pygments_lexer": "ipython3",
   "version": "3.8.9"
  }
 },
 "nbformat": 4,
 "nbformat_minor": 1
}
