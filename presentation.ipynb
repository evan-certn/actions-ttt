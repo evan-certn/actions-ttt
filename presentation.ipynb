{
 "cells": [
  {
   "cell_type": "markdown",
   "metadata": {
    "pycharm": {
     "name": "#%% md\n"
    },
    "slideshow": {
     "slide_type": "slide"
    }
   },
   "source": [
    "## Github Actions and ACT\n"
   ]
  },
  {
   "cell_type": "markdown",
   "metadata": {
    "pycharm": {
     "name": "#%% md\n"
    },
    "slideshow": {
     "slide_type": "slide"
    }
   },
   "source": [
    "Table of Contents\n",
    "* **Triggers and Matrices**\n",
    "* Variables and Secrets\n",
    "* Authentication and Deployment\n",
    "* Local Development with ACT"
   ]
  },
  {
   "cell_type": "markdown",
   "source": [
    "### Terminology\n",
    "\n",
    "job - a shell script or action\n",
    "action - \n",
    "workflow - one or more jobs\n",
    "runner - [ubuntu-lastest]\n",
    "events - [push, PR, manual trigger]"
   ],
   "metadata": {
    "collapsed": false,
    "pycharm": {
     "name": "#%% md\n"
    }
   }
  },
  {
   "cell_type": "markdown",
   "metadata": {
    "pycharm": {
     "name": "#%% md\n"
    },
    "slideshow": {
     "slide_type": "slide"
    }
   },
   "source": [
    "### Triggers"
   ]
  },
  {
   "cell_type": "markdown",
   "source": [
    "```yaml\n",
    "on:\n",
    "  push:\n",
    "    branches:\n",
    "    - main\n",
    "    - 'releases/**'\n",
    "  pull_request:\n",
    "    branches:\n",
    "    - main\n",
    "    - 'releases/**'\n",
    "```"
   ],
   "metadata": {
    "collapsed": false,
    "pycharm": {
     "name": "#%% md\n"
    }
   }
  },
  {
   "cell_type": "markdown",
   "source": [
    "### Variables"
   ],
   "metadata": {
    "collapsed": false,
    "pycharm": {
     "name": "#%% md\n"
    }
   }
  },
  {
   "cell_type": "markdown",
   "source": [
    "```yaml\n",
    "env:\n",
    "  TAG_NAME: \"tag_${{ github.sha }}_${{ github.run_attempt }}\"\n",
    "```"
   ],
   "metadata": {
    "collapsed": false,
    "pycharm": {
     "name": "#%% md\n"
    }
   }
  },
  {
   "cell_type": "markdown",
   "source": [
    "```yaml\n",
    "run: |\n",
    "  git push https://${{ secrets.GITHUB_TOKEN }}@${{ github.repository }} ${{ env.TAG_NAME }}\n",
    "\n",
    "```"
   ],
   "metadata": {
    "collapsed": false,
    "pycharm": {
     "name": "#%% md\n"
    }
   }
  },
  {
   "cell_type": "code",
   "execution_count": null,
   "outputs": [],
   "source": [
    "### Combining them"
   ],
   "metadata": {
    "collapsed": false,
    "pycharm": {
     "name": "#%%\n"
    }
   }
  },
  {
   "cell_type": "markdown",
   "source": [
    "```yaml\n",
    "name: Example 1\n",
    "on: [workflow_dispatch,push]\n",
    "env:\n",
    "  TAG_NAME: \"tag_${{ github.sha }}_${{ github.run_attempt }}\"\n",
    "jobs:\n",
    "  run: |\n",
    "    git push https://${{ secrets.GITHUB_TOKEN }}@${{ github.repository }} ${{ env.TAG_NAME }}\n",
    "```"
   ],
   "metadata": {
    "collapsed": false,
    "pycharm": {
     "name": "#%% md\n"
    }
   }
  },
  {
   "cell_type": "code",
   "execution_count": null,
   "outputs": [],
   "source": [],
   "metadata": {
    "collapsed": false,
    "pycharm": {
     "name": "#%%\n"
    }
   }
  },
  {
   "cell_type": "code",
   "execution_count": null,
   "metadata": {
    "pycharm": {
     "name": "#%%\n"
    }
   },
   "outputs": [],
   "source": []
  }
 ],
 "metadata": {
  "celltoolbar": "Slideshow",
  "kernelspec": {
   "display_name": "Python 3 (ipykernel)",
   "language": "python",
   "name": "python3"
  },
  "language_info": {
   "codemirror_mode": {
    "name": "ipython",
    "version": 3
   },
   "file_extension": ".py",
   "mimetype": "text/x-python",
   "name": "python",
   "nbconvert_exporter": "python",
   "pygments_lexer": "ipython3",
   "version": "3.8.9"
  }
 },
 "nbformat": 4,
 "nbformat_minor": 1
}