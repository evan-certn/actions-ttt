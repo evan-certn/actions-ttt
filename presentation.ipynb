{
 "cells": [
  {
   "cell_type": "markdown",
   "metadata": {
    "pycharm": {
     "name": "#%% md\n"
    },
    "slideshow": {
     "slide_type": "slide"
    }
   },
   "source": [
    "## Github Actions and ACT\n"
   ]
  },
  {
   "cell_type": "markdown",
   "metadata": {
    "pycharm": {
     "name": "#%% md\n"
    },
    "slideshow": {
     "slide_type": "slide"
    }
   },
   "source": [
    "Table of Contents\n",
    "* **Triggers and Matrices**\n",
    "* Variables and Secrets\n",
    "* Authentication and Deployment\n",
    "* Local Development with ACT"
   ]
  },
  {
   "cell_type": "markdown",
   "source": [
    "### Terminology\n",
    "\n",
    "job - a shell script or action\n",
    "action - \n",
    "workflow - one or more jobs\n",
    "runner - [ubuntu-lastest]\n",
    "events - [push, PR, manual trigger]"
   ],
   "metadata": {
    "collapsed": false,
    "pycharm": {
     "name": "#%% md\n"
    }
   }
  },
  {
   "cell_type": "markdown",
   "metadata": {
    "pycharm": {
     "name": "#%% md\n"
    },
    "slideshow": {
     "slide_type": "slide"
    }
   },
   "source": [
    "### Triggers"
   ]
  },
  {
   "cell_type": "markdown",
   "source": [
    "```yaml\n",
    "on:\n",
    "  push:\n",
    "    branches:\n",
    "    - main\n",
    "    - 'releases/**'\n",
    "  pull_request:\n",
    "    branches:\n",
    "    - main\n",
    "    - 'releases/**'\n",
    "```"
   ],
   "metadata": {
    "collapsed": false,
    "pycharm": {
     "name": "#%% md\n"
    }
   }
  },
  {
   "cell_type": "markdown",
   "source": [
    "### Variables"
   ],
   "metadata": {
    "collapsed": false,
    "pycharm": {
     "name": "#%% md\n"
    }
   }
  },
  {
   "cell_type": "markdown",
   "source": [
    "```yaml\n",
    "env:\n",
    "  TAG_NAME: \"tag_${{ github.sha }}_${{ github.run_attempt }}\"\n",
    "```"
   ],
   "metadata": {
    "collapsed": false,
    "pycharm": {
     "name": "#%% md\n"
    }
   }
  },
  {
   "cell_type": "markdown",
   "source": [
    "```yaml\n",
    "run: |\n",
    "  git push https://${{ secrets.GITHUB_TOKEN }}@https://github.com/${{ github.repository }} ${{ env.TAG_NAME }}\n",
    "\n",
    "```"
   ],
   "metadata": {
    "collapsed": false,
    "pycharm": {
     "name": "#%% md\n"
    }
   }
  },
  {
   "cell_type": "code",
   "execution_count": null,
   "outputs": [],
   "source": [
    "### Combining them"
   ],
   "metadata": {
    "collapsed": false,
    "pycharm": {
     "name": "#%%\n"
    }
   }
  },
  {
   "cell_type": "markdown",
   "source": [
    "```yaml\n",
    "name: Example 1 Workflow\n",
    "on:\n",
    "  push:\n",
    "    branches:\n",
    "      - main\n",
    "  workflow_dispatch:\n",
    "env:\n",
    "  TAG_NAME: \"tag_${{ github.sha }}_${{ github.run_attempt }}\"\n",
    "jobs:\n",
    "  example1:\n",
    "    name: Example 1 Job\n",
    "    runs-on: ubuntu-latest\n",
    "    steps:\n",
    "    - name: Example 1 Action\n",
    "      run: |\n",
    "        git push https://${{ secrets.GITHUB_TOKEN }}@https://github.com/${{ github.repository }} ${{ env.TAG_NAME }} -m \"Automated!\"\n",
    "```"
   ],
   "metadata": {
    "collapsed": false,
    "pycharm": {
     "name": "#%% md\n"
    }
   }
  },
  {
   "cell_type": "code",
   "execution_count": 2,
   "outputs": [
    {
     "name": "stdout",
     "output_type": "stream",
     "text": [
      "\u001B[KSTATUS  NAME          WORKFLOW       BRANCH  EVENT  ID          ELAPSED  AGE\r\n",
      "\u001B[0;31mX     \u001B[0m  \u001B[0;1;39madded naming\u001B[0m  Example 1 ...  \u001B[0;1;39mmain  \u001B[0m  push   \u001B[0;36m2848359284\u001B[0m  16s      5m\r\n"
     ]
    }
   ],
   "source": [
    "!gh run list --workflow example1.yaml --limit 1"
   ],
   "metadata": {
    "collapsed": false,
    "pycharm": {
     "name": "#%%\n"
    }
   }
  },
  {
   "cell_type": "code",
   "execution_count": null,
   "metadata": {
    "pycharm": {
     "name": "#%%\n"
    }
   },
   "outputs": [],
   "source": []
  }
 ],
 "metadata": {
  "celltoolbar": "Slideshow",
  "kernelspec": {
   "display_name": "Python 3 (ipykernel)",
   "language": "python",
   "name": "python3"
  },
  "language_info": {
   "codemirror_mode": {
    "name": "ipython",
    "version": 3
   },
   "file_extension": ".py",
   "mimetype": "text/x-python",
   "name": "python",
   "nbconvert_exporter": "python",
   "pygments_lexer": "ipython3",
   "version": "3.8.9"
  }
 },
 "nbformat": 4,
 "nbformat_minor": 1
}